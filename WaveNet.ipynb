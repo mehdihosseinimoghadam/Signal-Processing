{
  "nbformat": 4,
  "nbformat_minor": 0,
  "metadata": {
    "colab": {
      "name": "WaveNet.ipynb",
      "provenance": [],
      "authorship_tag": "ABX9TyNBA6NEVjKVFd2DZI//GcVE",
      "include_colab_link": true
    },
    "kernelspec": {
      "name": "python3",
      "display_name": "Python 3"
    },
    "language_info": {
      "name": "python"
    }
  },
  "cells": [
    {
      "cell_type": "markdown",
      "metadata": {
        "id": "view-in-github",
        "colab_type": "text"
      },
      "source": [
        "<a href=\"https://colab.research.google.com/github/mehdihosseinimoghadam/Signal-Processing/blob/main/WaveNet.ipynb\" target=\"_parent\"><img src=\"https://colab.research.google.com/assets/colab-badge.svg\" alt=\"Open In Colab\"/></a>"
      ]
    },
    {
      "cell_type": "code",
      "execution_count": 1,
      "metadata": {
        "id": "OJqrI8sRPl6z"
      },
      "outputs": [],
      "source": [
        "import math\n",
        "import pathlib\n",
        "import random\n",
        "import itertools\n",
        "from tqdm import tqdm\n",
        "\n",
        "from IPython import display\n",
        "from dataclasses import dataclass\n",
        "\n",
        "import torch\n",
        "import torch.nn.functional as F\n",
        "from torch import distributions\n",
        "from torch import nn\n",
        "from torch import optim\n",
        "from torch.utils.data import Dataset, DataLoader\n",
        "\n",
        "import torchaudio\n",
        "from torchaudio.transforms import MelSpectrogram\n",
        "\n",
        "import librosa\n",
        "import pandas as pd\n",
        "from sklearn.model_selection import train_test_split\n",
        "from matplotlib import pyplot as plt"
      ]
    },
    {
      "cell_type": "code",
      "source": [
        "batch_size = 1\n",
        "in_channel = 1\n",
        "num_samples = 10\n",
        "\n",
        "input = torch.arange(num_samples).reshape(batch_size, in_channel, num_samples).float()\n",
        "print(f'input: {input}')\n",
        "\n",
        "# Let's omit bias for simplicy\n",
        "conv_1d = nn.Conv1d(in_channel, in_channel, 3, bias=False)\n",
        "print(f'weights: {conv_1d.weight}')\n",
        "\n",
        "# Turn weights into `ones`\n",
        "nn.init.ones_(conv_1d.weight)"
      ],
      "metadata": {
        "colab": {
          "base_uri": "https://localhost:8080/"
        },
        "id": "XTgV8ap-P5m6",
        "outputId": "e0449406-6ac9-4436-b547-95b26bc2adaa"
      },
      "execution_count": 2,
      "outputs": [
        {
          "output_type": "stream",
          "name": "stdout",
          "text": [
            "input: tensor([[[0., 1., 2., 3., 4., 5., 6., 7., 8., 9.]]])\n",
            "weights: Parameter containing:\n",
            "tensor([[[-0.1340,  0.1893,  0.2076]]], requires_grad=True)\n"
          ]
        },
        {
          "output_type": "execute_result",
          "data": {
            "text/plain": [
              "Parameter containing:\n",
              "tensor([[[1., 1., 1.]]], requires_grad=True)"
            ]
          },
          "metadata": {},
          "execution_count": 2
        }
      ]
    },
    {
      "cell_type": "code",
      "source": [
        "print(f'Input: {input.squeeze()}')\n",
        "print(f'After Conv1D: {conv_1d(input).squeeze()}')"
      ],
      "metadata": {
        "colab": {
          "base_uri": "https://localhost:8080/"
        },
        "id": "Di77esqNP8cx",
        "outputId": "0aed533e-7199-4a84-b20d-4adde05f78d5"
      },
      "execution_count": 3,
      "outputs": [
        {
          "output_type": "stream",
          "name": "stdout",
          "text": [
            "Input: tensor([0., 1., 2., 3., 4., 5., 6., 7., 8., 9.])\n",
            "After Conv1D: tensor([ 3.,  6.,  9., 12., 15., 18., 21., 24.], grad_fn=<SqueezeBackward0>)\n"
          ]
        }
      ]
    },
    {
      "cell_type": "code",
      "source": [
        "class CausalConv1d(nn.Conv1d):\n",
        "    \"\"\"\n",
        "    Casual Conv1d\n",
        "    \"\"\"\n",
        "\n",
        "    def __init__(\n",
        "        self,\n",
        "        in_channels: int,\n",
        "        out_channels: int,\n",
        "        kernel_size: int,\n",
        "        dilation: int = 1,\n",
        "        bias: bool = False\n",
        "    ):\n",
        "        super().__init__(\n",
        "            in_channels,\n",
        "            out_channels,\n",
        "            kernel_size,\n",
        "            dilation=dilation,\n",
        "            bias=bias\n",
        "        )\n",
        "\n",
        "        padding_size = (kernel_size - 1) * dilation\n",
        "        self.zero_padding = nn.ConstantPad1d(\n",
        "            padding=(padding_size, 0),\n",
        "            value=0.0\n",
        "        )\n",
        "\n",
        "    def forward(self, input: torch.Tensor) -> torch.Tensor:\n",
        "        print(input)\n",
        "        padded_input = self.zero_padding(input)\n",
        "        print(padded_input)\n",
        "        output = super().forward(padded_input)\n",
        "        print(output)\n",
        "        return output"
      ],
      "metadata": {
        "id": "1V8yZOzhP80G"
      },
      "execution_count": 18,
      "outputs": []
    },
    {
      "cell_type": "code",
      "source": [
        "causal_block = CausalConv1d(in_channels=1, out_channels=1, kernel_size=3, dilation=3)\n",
        "nn.init.ones_(causal_block.weight)"
      ],
      "metadata": {
        "colab": {
          "base_uri": "https://localhost:8080/"
        },
        "id": "8a1E4XHeQGJg",
        "outputId": "c6fa0b17-b19b-4125-dacb-63ddcf67ecf7"
      },
      "execution_count": 19,
      "outputs": [
        {
          "output_type": "execute_result",
          "data": {
            "text/plain": [
              "Parameter containing:\n",
              "tensor([[[1., 1., 1.]]], requires_grad=True)"
            ]
          },
          "metadata": {},
          "execution_count": 19
        }
      ]
    },
    {
      "cell_type": "code",
      "source": [
        "print(f'Input: {input.squeeze()}')\n",
        "print(f'After Conv1D: {causal_block(input).squeeze()}')"
      ],
      "metadata": {
        "colab": {
          "base_uri": "https://localhost:8080/"
        },
        "id": "DVc5pTqfQGkV",
        "outputId": "27162690-0fd4-44df-fa46-b606a422d10c"
      },
      "execution_count": 20,
      "outputs": [
        {
          "output_type": "stream",
          "name": "stdout",
          "text": [
            "Input: tensor([0., 1., 2., 3., 4., 5., 6., 7., 8., 9.])\n",
            "tensor([[[0., 1., 2., 3., 4., 5., 6., 7., 8., 9.]]])\n",
            "tensor([[[0., 0., 0., 0., 0., 0., 0., 1., 2., 3., 4., 5., 6., 7., 8., 9.]]])\n",
            "tensor([[[ 0.,  1.,  2.,  3.,  5.,  7.,  9., 12., 15., 18.]]],\n",
            "       grad_fn=<SqueezeBackward1>)\n",
            "After Conv1D: tensor([ 0.,  1.,  2.,  3.,  5.,  7.,  9., 12., 15., 18.],\n",
            "       grad_fn=<SqueezeBackward0>)\n"
          ]
        }
      ]
    },
    {
      "cell_type": "code",
      "source": [
        ""
      ],
      "metadata": {
        "id": "La77lLiYQMKe"
      },
      "execution_count": null,
      "outputs": []
    }
  ]
}