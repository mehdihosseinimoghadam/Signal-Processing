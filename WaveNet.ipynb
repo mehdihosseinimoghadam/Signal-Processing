{
  "nbformat": 4,
  "nbformat_minor": 0,
  "metadata": {
    "colab": {
      "name": "WaveNet.ipynb",
      "provenance": [],
      "authorship_tag": "ABX9TyNqXahC8a5oYn3akdfTGrHR",
      "include_colab_link": true
    },
    "kernelspec": {
      "name": "python3",
      "display_name": "Python 3"
    },
    "language_info": {
      "name": "python"
    }
  },
  "cells": [
    {
      "cell_type": "markdown",
      "metadata": {
        "id": "view-in-github",
        "colab_type": "text"
      },
      "source": [
        "<a href=\"https://colab.research.google.com/github/mehdihosseinimoghadam/Signal-Processing/blob/main/WaveNet.ipynb\" target=\"_parent\"><img src=\"https://colab.research.google.com/assets/colab-badge.svg\" alt=\"Open In Colab\"/></a>"
      ]
    },
    {
      "cell_type": "markdown",
      "source": [
        "## Link for the Mind Map of WaveNet Structure \n",
        "https://miro.com/app/board/uXjVOP_ISaI=/?invite_link_id=623522214701"
      ],
      "metadata": {
        "id": "oyM_F37rjrdg"
      }
    },
    {
      "cell_type": "markdown",
      "source": [
        "![picture](https://drive.google.com/uc?export=view&id=1732KrnQybOu00ldmJuf73aUyEiDnZ0jN)\n"
      ],
      "metadata": {
        "id": "9y_HPt_yY5sf"
      }
    },
    {
      "cell_type": "code",
      "execution_count": 2,
      "metadata": {
        "id": "OJqrI8sRPl6z"
      },
      "outputs": [],
      "source": [
        "import math\n",
        "import pathlib\n",
        "import random\n",
        "import itertools\n",
        "from tqdm import tqdm\n",
        "\n",
        "from IPython import display\n",
        "from dataclasses import dataclass\n",
        "\n",
        "import torch\n",
        "import torch.nn.functional as F\n",
        "from torch import distributions\n",
        "from torch import nn\n",
        "from torch import optim\n",
        "from torch.utils.data import Dataset, DataLoader\n",
        "\n",
        "import torchaudio\n",
        "from torchaudio.transforms import MelSpectrogram\n",
        "\n",
        "import librosa\n",
        "import pandas as pd\n",
        "from sklearn.model_selection import train_test_split\n",
        "from matplotlib import pyplot as plt"
      ]
    },
    {
      "cell_type": "code",
      "source": [
        "batch_size = 1\n",
        "in_channel = 1\n",
        "num_samples = 10\n",
        "\n",
        "input = torch.arange(num_samples).reshape(batch_size, in_channel, num_samples).float()\n",
        "print(f'input: {input}')\n",
        "\n",
        "# Let's omit bias for simplicy\n",
        "conv_1d = nn.Conv1d(in_channel, in_channel, 3, bias=False)\n",
        "print(f'weights: {conv_1d.weight}')\n",
        "\n",
        "# Turn weights into `ones`\n",
        "nn.init.ones_(conv_1d.weight)"
      ],
      "metadata": {
        "colab": {
          "base_uri": "https://localhost:8080/"
        },
        "id": "XTgV8ap-P5m6",
        "outputId": "295552db-6d13-44e0-fb4c-b77778b22188"
      },
      "execution_count": 3,
      "outputs": [
        {
          "output_type": "stream",
          "name": "stdout",
          "text": [
            "input: tensor([[[0., 1., 2., 3., 4., 5., 6., 7., 8., 9.]]])\n",
            "weights: Parameter containing:\n",
            "tensor([[[-0.0789,  0.0368, -0.1076]]], requires_grad=True)\n"
          ]
        },
        {
          "output_type": "execute_result",
          "data": {
            "text/plain": [
              "Parameter containing:\n",
              "tensor([[[1., 1., 1.]]], requires_grad=True)"
            ]
          },
          "metadata": {},
          "execution_count": 3
        }
      ]
    },
    {
      "cell_type": "code",
      "source": [
        "print(f'Input: {input.squeeze()}')\n",
        "print(f'After Conv1D: {conv_1d(input).squeeze()}')"
      ],
      "metadata": {
        "colab": {
          "base_uri": "https://localhost:8080/"
        },
        "id": "Di77esqNP8cx",
        "outputId": "0aed533e-7199-4a84-b20d-4adde05f78d5"
      },
      "execution_count": null,
      "outputs": [
        {
          "output_type": "stream",
          "name": "stdout",
          "text": [
            "Input: tensor([0., 1., 2., 3., 4., 5., 6., 7., 8., 9.])\n",
            "After Conv1D: tensor([ 3.,  6.,  9., 12., 15., 18., 21., 24.], grad_fn=<SqueezeBackward0>)\n"
          ]
        }
      ]
    },
    {
      "cell_type": "code",
      "source": [
        "class CausalConv1d(nn.Conv1d):\n",
        "    \"\"\"\n",
        "    Casual Conv1d\n",
        "    \"\"\"\n",
        "\n",
        "    def __init__(\n",
        "        self,\n",
        "        in_channels: int,\n",
        "        out_channels: int,\n",
        "        kernel_size: int,\n",
        "        dilation: int = 1,\n",
        "        bias: bool = False\n",
        "    ):\n",
        "        super().__init__(\n",
        "            in_channels,\n",
        "            out_channels,\n",
        "            kernel_size,\n",
        "            dilation=dilation,\n",
        "            bias=bias\n",
        "        )\n",
        "\n",
        "        padding_size = (kernel_size - 1) * dilation\n",
        "        self.zero_padding = nn.ConstantPad1d(\n",
        "            padding=(padding_size, 0),\n",
        "            value=0.0\n",
        "        )\n",
        "\n",
        "    def forward(self, input: torch.Tensor) -> torch.Tensor:\n",
        "        # print(input)\n",
        "        padded_input = self.zero_padding(input)\n",
        "        # print(padded_input)\n",
        "        output = super().forward(padded_input)\n",
        "        # print(output)\n",
        "        return output"
      ],
      "metadata": {
        "id": "1V8yZOzhP80G"
      },
      "execution_count": null,
      "outputs": []
    },
    {
      "cell_type": "code",
      "source": [
        "causal_block = CausalConv1d(in_channels=1, out_channels=1, kernel_size=3, dilation=3)\n",
        "nn.init.ones_(causal_block.weight)"
      ],
      "metadata": {
        "colab": {
          "base_uri": "https://localhost:8080/"
        },
        "id": "8a1E4XHeQGJg",
        "outputId": "5733e37e-b1e2-4bb7-f1ed-8065e6662c95"
      },
      "execution_count": null,
      "outputs": [
        {
          "output_type": "execute_result",
          "data": {
            "text/plain": [
              "Parameter containing:\n",
              "tensor([[[1., 1., 1.]]], requires_grad=True)"
            ]
          },
          "metadata": {},
          "execution_count": 59
        }
      ]
    },
    {
      "cell_type": "code",
      "source": [
        "print(f'Input: {input.squeeze()}')\n",
        "print(f'After Conv1D: {causal_block(input).squeeze()}')"
      ],
      "metadata": {
        "colab": {
          "base_uri": "https://localhost:8080/"
        },
        "id": "DVc5pTqfQGkV",
        "outputId": "619f73a2-7ebb-4275-938a-5c9549e65dfb"
      },
      "execution_count": null,
      "outputs": [
        {
          "output_type": "stream",
          "name": "stdout",
          "text": [
            "Input: tensor([0., 1., 2., 3., 4., 5., 6., 7., 8., 9.])\n",
            "After Conv1D: tensor([ 0.,  1.,  2.,  3.,  5.,  7.,  9., 12., 15., 18.],\n",
            "       grad_fn=<SqueezeBackward0>)\n"
          ]
        }
      ]
    },
    {
      "cell_type": "code",
      "source": [
        "class GatedConv1d(nn.Module):\n",
        "  def __init__(\n",
        "      self,\n",
        "      in_channels,\n",
        "      out_channels,\n",
        "      kernel_size,\n",
        "      dilation\n",
        "  ):\n",
        "      super().__init__()\n",
        "      self.filter_conv = CausalConv1d(in_channels, out_channels, kernel_size, dilation)\n",
        "      self.gated_conv = CausalConv1d(in_channels, out_channels, kernel_size, dilation)\n",
        "\n",
        "  def forward(self, x):\n",
        "    # print(1)\n",
        "    filter_conv = self.filter_conv(x)\n",
        "    gated_conv = self.gated_conv(x)\n",
        "    # print(filter_conv)\n",
        "    out = torch.tanh(filter_conv) * torch.sigmoid(gated_conv)\n",
        "    # print(2)\n",
        "    return out   "
      ],
      "metadata": {
        "id": "La77lLiYQMKe"
      },
      "execution_count": null,
      "outputs": []
    },
    {
      "cell_type": "code",
      "source": [
        "gated_conv_block = GatedConv1d(in_channels=1, out_channels=1, kernel_size=3, dilation=3)\n",
        "gated_conv_block"
      ],
      "metadata": {
        "colab": {
          "base_uri": "https://localhost:8080/"
        },
        "id": "cW6oy7DxciE2",
        "outputId": "16deb5c3-d8ef-41d1-99cf-df97cd3094ac"
      },
      "execution_count": null,
      "outputs": [
        {
          "output_type": "execute_result",
          "data": {
            "text/plain": [
              "GatedConv1d(\n",
              "  (filter_conv): CausalConv1d(\n",
              "    1, 1, kernel_size=(3,), stride=(1,), dilation=(3,), bias=False\n",
              "    (zero_padding): ConstantPad1d(padding=(6, 0), value=0.0)\n",
              "  )\n",
              "  (gated_conv): CausalConv1d(\n",
              "    1, 1, kernel_size=(3,), stride=(1,), dilation=(3,), bias=False\n",
              "    (zero_padding): ConstantPad1d(padding=(6, 0), value=0.0)\n",
              "  )\n",
              ")"
            ]
          },
          "metadata": {},
          "execution_count": 75
        }
      ]
    },
    {
      "cell_type": "code",
      "source": [
        "print(f'Input: {input.squeeze()}')\n",
        "print(f'After Conv1D: {gated_conv_block(input)}')"
      ],
      "metadata": {
        "colab": {
          "base_uri": "https://localhost:8080/"
        },
        "id": "MvAICOT0ctB-",
        "outputId": "6b39893f-0403-41a6-981a-d6cb086448e6"
      },
      "execution_count": null,
      "outputs": [
        {
          "output_type": "stream",
          "name": "stdout",
          "text": [
            "Input: tensor([0., 1., 2., 3., 4., 5., 6., 7., 8., 9.])\n",
            "After Conv1D: tensor([[[0.0000, 0.1022, 0.2008, 0.2894, 0.2801, 0.2687, 0.2556, 0.3919,\n",
            "          0.5254, 0.6441]]], grad_fn=<MulBackward0>)\n"
          ]
        }
      ]
    },
    {
      "cell_type": "code",
      "source": [
        "dilation_cycles = 3\n",
        "\n",
        "dilation_depth = 10\n",
        "\n",
        "for i in range(dilation_cycles * dilation_depth):\n",
        "  print(2 ** (i % dilation_depth))"
      ],
      "metadata": {
        "id": "spwnHgChy-P5"
      },
      "execution_count": null,
      "outputs": []
    },
    {
      "cell_type": "code",
      "source": [
        "from torch import nn"
      ],
      "metadata": {
        "id": "HXugzGR5zNP8"
      },
      "execution_count": 8,
      "outputs": []
    },
    {
      "cell_type": "code",
      "source": [
        "nn.ModuleList([\n",
        "            CondWaveNetBlock(10, 20, 30,\n",
        "                             40,\n",
        "                             3, 2 ** (i % dilation_depth))\n",
        "            for i in range(dilation_cycles * dilation_depth)])"
      ],
      "metadata": {
        "colab": {
          "base_uri": "https://localhost:8080/",
          "height": 287
        },
        "id": "9v35dqAB00R6",
        "outputId": "bf302cfa-b31f-4f10-ad59-8ff76bd55194"
      },
      "execution_count": 11,
      "outputs": [
        {
          "output_type": "error",
          "ename": "NameError",
          "evalue": "ignored",
          "traceback": [
            "\u001b[0;31m---------------------------------------------------------------------------\u001b[0m",
            "\u001b[0;31mNameError\u001b[0m                                 Traceback (most recent call last)",
            "\u001b[0;32m<ipython-input-11-fc6f65fa8219>\u001b[0m in \u001b[0;36m<module>\u001b[0;34m()\u001b[0m\n\u001b[1;32m      3\u001b[0m                              \u001b[0;36m40\u001b[0m\u001b[0;34m,\u001b[0m\u001b[0;34m\u001b[0m\u001b[0;34m\u001b[0m\u001b[0m\n\u001b[1;32m      4\u001b[0m                              3, 2 ** (i % dilation_depth))\n\u001b[0;32m----> 5\u001b[0;31m             for i in range(dilation_cycles * dilation_depth)])\n\u001b[0m",
            "\u001b[0;32m<ipython-input-11-fc6f65fa8219>\u001b[0m in \u001b[0;36m<listcomp>\u001b[0;34m(.0)\u001b[0m\n\u001b[1;32m      3\u001b[0m                              \u001b[0;36m40\u001b[0m\u001b[0;34m,\u001b[0m\u001b[0;34m\u001b[0m\u001b[0;34m\u001b[0m\u001b[0m\n\u001b[1;32m      4\u001b[0m                              3, 2 ** (i % dilation_depth))\n\u001b[0;32m----> 5\u001b[0;31m             for i in range(dilation_cycles * dilation_depth)])\n\u001b[0m",
            "\u001b[0;31mNameError\u001b[0m: name 'CondWaveNetBlock' is not defined"
          ]
        }
      ]
    },
    {
      "cell_type": "code",
      "source": [
        ""
      ],
      "metadata": {
        "id": "YJcr900o0809"
      },
      "execution_count": null,
      "outputs": []
    }
  ]
}